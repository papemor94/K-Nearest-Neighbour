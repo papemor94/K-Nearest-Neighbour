{
 "cells": [
  {
   "cell_type": "code",
   "execution_count": 86,
   "metadata": {},
   "outputs": [],
   "source": [
    "#  cette fonction  permet de calculer les k_nearest neighbour   \n",
    "# CISSE Pape MOR K_NN   TP\n",
    "\n",
    "import numpy as np\n",
    "import pandas as pd\n",
    "import collections\n",
    "\n",
    "def knearest(features, target , nb_class, batch_):\n",
    "    \n",
    "    \n",
    "    #   target  : label of differents classes  : column \n",
    "    #   batch_ : matrix not a vector   size of the first dimension  >  1 ;\n",
    "    \n",
    "    batch_size = len(batch_)\n",
    "    ### YOUR CODE HERE\n",
    "    distance_metrique = ((features[np.newaxis,:,:]- batch_[:,np.newaxis,:])**2).sum(axis=-1)\n",
    "    __ranged_per_distance = np.argsort(distance_metrique)\n",
    "    #print (__ranged_per_distance)\n",
    "    \n",
    "    # get target of the k_nearest neighbour\n",
    "    target_of_neighbour  = target[__ranged_per_distance[:,0:nb_class]]\n",
    "    #print(target_of_neighbour)\n",
    "    # densite\n",
    "    appearance_number_in_each_class = np.apply_along_axis(np.bincount, 1, target_of_neighbour, minlength=nb_class)\n",
    "    densite = appearance_number_in_each_class/nb_class\n",
    "    \n",
    "    return densite , target_of_neighbour,  batch_size   ### YOUR CODE HERE\n",
    "\n",
    "\n",
    "def prediction(l) :\n",
    "    out = []\n",
    "    for i in range (len(l)):\n",
    "        out.append(collections.Counter(l[i]).most_common(1)[0][0])\n",
    "    return out\n",
    "\n",
    "from sklearn.metrics import accuracy_score\n",
    "\n",
    "def accuracy (prediction , target_test):\n",
    "\n",
    "    return accuracy_score(prediction, target_test)\n",
    "\n"
   ]
  },
  {
   "cell_type": "code",
   "execution_count": 94,
   "metadata": {},
   "outputs": [
    {
     "name": "stdout",
     "output_type": "stream",
     "text": [
      "0.76\n",
      "[1 0 2 1 1 0 1 2 1 1 2 0 0 0 0 1 2 1 1 2 0 2 0 2 2 2 2 2 0 0 0 0 1 0 0 2 1\n",
      " 0 0 0 2 1 1 0 0 1 2 2 1 2] [1, 0, 2, 1, 1, 0, 1, 2, 1, 2, 2, 0, 0, 0, 0, 2, 2, 1, 1, 1, 0, 1, 0, 1, 2, 2, 1, 2, 0, 0, 0, 0, 2, 0, 0, 1, 2, 0, 0, 0, 2, 2, 2, 0, 0, 1, 2, 2, 2, 2]\n"
     ]
    }
   ],
   "source": [
    "# appliquons le model à Iris  Pour evaluer la precision du MODELE\n",
    "\n",
    "import sklearn.datasets\n",
    "data = sklearn.datasets.load_iris()\n",
    "\n",
    "x = data.data[:, :2]  # we only take the first two features.\n",
    "y = data.target\n",
    "from sklearn.model_selection import train_test_split\n",
    "x_train, x_test, y_train, y_test = train_test_split( x, y, test_size=0.33, random_state=42)\n",
    "densite_of_probabilite , target_of_neighbour  = knearest(x_train , y_train , 3 , x_test)\n",
    "#print(prediction(target_of_neighbour))  \n",
    "print(y_test , prediction(target_of_neighbour))\n",
    "print(accuracy(prediction(target_of_neighbour) , y_test))\n",
    "\n"
   ]
  },
  {
   "cell_type": "code",
   "execution_count": 99,
   "metadata": {},
   "outputs": [
    {
     "name": "stdout",
     "output_type": "stream",
     "text": [
      "[1, 1, 1, 1, 1, 1]\n"
     ]
    }
   ],
   "source": [
    "\n",
    "# ON VA APPLIQUER LE MODELE A UN JEU DE DONNEES ALEATOIRES\n",
    "\n",
    "features  =  np.random.randn(20*3).reshape(20,3)\n",
    "target =  np.ones(20 , dtype=int)\n",
    "batch = np.random.randn(6,3)\n",
    "densite_of_probabilite , target_of_neighbour  = knearest(features , target , 3 , batch)\n",
    "print(prediction(target_of_neighbour))  \n",
    "\n"
   ]
  },
  {
   "cell_type": "code",
   "execution_count": 100,
   "metadata": {},
   "outputs": [
    {
     "data": {
      "text/plain": [
       "[63.77, 20, 24, 33, 8]"
      ]
     },
     "execution_count": 100,
     "metadata": {},
     "output_type": "execute_result"
    }
   ],
   "source": [
    "A = [63.77 , 20  , 24 , 33,8]"
   ]
  }
 ],
 "metadata": {
  "hide_input": false,
  "kernelspec": {
   "display_name": "Python 3",
   "language": "python",
   "name": "python3"
  },
  "language_info": {
   "codemirror_mode": {
    "name": "ipython",
    "version": 3
   },
   "file_extension": ".py",
   "mimetype": "text/x-python",
   "name": "python",
   "nbconvert_exporter": "python",
   "pygments_lexer": "ipython3",
   "version": "3.8.3"
  },
  "latex_envs": {
   "LaTeX_envs_menu_present": true,
   "autoclose": false,
   "autocomplete": false,
   "bibliofile": "biblio.bib",
   "cite_by": "apalike",
   "current_citInitial": 1,
   "eqLabelWithNumbers": true,
   "eqNumInitial": 1,
   "hotkeys": {
    "equation": "Ctrl-E",
    "itemize": "Ctrl-I"
   },
   "labels_anchors": false,
   "latex_user_defs": false,
   "report_style_numbering": false,
   "user_envs_cfg": false
  }
 },
 "nbformat": 4,
 "nbformat_minor": 2
}
